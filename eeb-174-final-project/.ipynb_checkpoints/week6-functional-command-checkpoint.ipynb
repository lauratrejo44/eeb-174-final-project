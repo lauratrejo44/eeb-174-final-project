{
 "cells": [
  {
   "cell_type": "markdown",
   "metadata": {},
   "source": [
    "**Week 6: Functional command**\n",
    "```\n",
    "Function to format data appropriately. \n",
    "This function will list the taxon as extinct or extanct\n",
    "```\n"
   ]
  },
  {
   "cell_type": "code",
   "execution_count": 65,
   "metadata": {
    "collapsed": false
   },
   "outputs": [],
   "source": [
    "import csv\n",
    "\n",
    "\n",
    "#create and define function that takes an integer from the min_ma as the argument and returns either extanct or extinct\n",
    "\n",
    "def still_exists(string):\n",
    "    for ma in (item [11]):\n",
    "         if ma == '0':\n",
    "            exists.append (0)\n",
    "            return ('0')\n",
    "         else:\n",
    "            exists.append(1)\n",
    "            return('1')\n",
    "         \n",
    "       \n",
    "\n",
    "#read in the file \n",
    "in_file = open ( \"/home/eeb177-student/Desktop/eeb-177/eeb-174-final-project/ornithurae_pbdb_data.csv\")\n",
    "#make a dictionary of taxon of either extinct or extanct \n",
    "#mames a list of 0 or 1 \n",
    "taxon = {}\n",
    "exists = []\n",
    "\n",
    "#get rid of the header\n",
    "in_file.readline()\n",
    "\n",
    "for line in in_file:\n",
    "    \n",
    "    #split so we can access the different columns in the lines \n",
    "    #items = line.split ('\\t')\n",
    "    item = line.split('\",\"')\n",
    "    \n",
    "    taxons = item [5]\n",
    "    ma = item [11]\n",
    "\n",
    "    #populate our dictionaries\n",
    "    taxon[taxons] = still_exists (ma)\n",
    "    \n",
    "in_file.close()\n",
    "\n"
   ]
  },
  {
   "cell_type": "code",
   "execution_count": 66,
   "metadata": {
    "collapsed": false,
    "scrolled": true
   },
   "outputs": [
    {
     "name": "stdout",
     "output_type": "stream",
     "text": [
      "{'Sula brandi': '1', 'Pelagornis chilensis': '1', 'Nannonetta invisitata': '0', 'Columbina': '0', 'Columbidae': '0', 'Zonotrichia': '0', 'Tinamisornis intermedius': '1', 'Physornis': '1', 'Ajaia': '0', 'Zenaida': '0', 'Fulmarus': '1', 'Ardea': '0', 'Rhea fossilis': '1', 'Theristicus wetmorei': '0', 'Morus peruvianus': '1', 'Milvago': '0', 'Cladornis pachypus': '1', 'Anas talarae': '0', 'Diomedea': '1', 'Presbyornithidae': '1', 'Neornithes': '1', 'Phorusrhacidae': '1', 'Andrewsornis': '1', 'Passeriformes': '0', 'Miraquila terrestris': '0', 'Psilopterus bachmanni': '1', 'Porphyrula': '0', 'Sulidae': '1', 'Taubatornis campbelli': '1', 'Sula figueroae': '1', 'Pelecaniformes': '1', 'Limenavis patagonica': '1', 'Andalgalornis': '1', 'Protorhea azarae': '1', 'Puffinus': '1', 'Falco sparverius': '0', 'Porzana': '0', 'Chloephaga': '0', 'Sula': '1', 'Coccyzus': '0', 'Pelagornithidae': '0', 'Accipitridae': '1', 'Procellariidae': '1', 'Falco': '0', 'Thegornis debilis': '1', 'Nycticorax': '0', 'Anas sanctaehelenae': '0', 'Tinamisornis parvulus': '1', 'Kelenken guillermoi': '1', 'Phalacrocorax brasilianus': '0', 'Cruschedula revola': '1', 'Podilymbus podiceps': '0', 'Anhinga': '1', 'Motacillinae': '0', 'Eudocimus': '0', 'Tinamidae': '0', 'Anas amotape': '0', 'Rhea': '0', 'Phalacrocorax': '0', 'Psilopteridae': '1', 'Anisolornis': '1', 'Patagornis marshi': '1', 'Mesembriornis milneedwardsi': '1', 'Sula sulita': '1', 'Anas': '0', 'Dendrocygninae': '1', 'Lagopterus minutus': '0', 'Phorusrhacinae': '1', 'Rhea americana': '0', 'Egretta': '0', 'Devincenzia': '1', 'Cariaminae': '1', 'Diogenornis fragilis': '1', 'Tyto alba': '0', 'Anatidae': '0', 'Mycteria': '0', 'Caracara plancus': '0', 'Psittacidae': '0', 'Eudromia': '1', 'Opisthodactylus patagonicus': '1', 'Bubo virginianus': '0', 'Circus': '0', 'Syrigma sanctimartini': '0', 'Protibis': '1', 'Paleopsilopterus itaboraiensis': '1', 'Badiostes patagonicus': '1', 'Leptoptilos patagonicus': '1', 'Milvago brodkorbi': '0', 'Psilopterus lemoinei': '1', 'Devincenzia gallinali': '1', 'Anhinga grandis': '1', 'Eoneornis australis': '1', 'Buteo': '0', 'Thalassarche': '1', 'Brontornis burmeisteri': '1', 'Nothura': '0', 'Rhea subpampeana': '1', 'Cariama santacrucensis': '1', 'Amplibuteo hibbardi': '0', 'Rallidae': '0', 'Phorusrhacos longissimus': '1', 'Caprimulgus piurensis': '0', 'Dendrocygna autumnalis': '0', 'Pelagornis': '1', 'Dryornis pampeanus': '1', 'Phalacrocorax bougainvillii': '0', 'Podiceps': '0', 'Crypturellus': '0', 'Ornithurae': '1', 'Telmabates antiquus': '1', 'Rhea pampeana': '0', 'Asio flammeus': '0', 'Phoenicopteridae': '1', 'Eutreptodactylus itaboraiensis': '1', 'Telmabates howardae': '1', 'Dendrocygna': '1', 'Liptornis hesternus': '1', 'Ardeidae': '1', 'Rheidae': '0', 'Yacoraitichnus avis': '1', 'Argentavis magnificens': '1', 'Ramphastosula ramirezi': '1', 'Jabiru mycteria': '0', 'Foetopterus ambiguus': '1', 'Diomedeidae': '1', 'Speotyto cunicularia': '0', 'Chunga': '1', 'Eutelornis patagonicus': '1', 'Colaptes': '0', 'Hoazinoides magdalenae': '1', 'Eudocimus peruvianus': '0', 'Anseriformes': '1', 'Megapaloelodus': '1', 'Falconidae': '1', 'Neogaeornis wetzeli': '1', 'Ramphastosula aguierrei': '1', 'Itaboravis elaphrocnemoides': '1', 'Sula magna': '1', 'Palaeociconia australis': '1', 'Psilopterus colzecus': '1', 'Geranoaetus': '0'}\n"
     ]
    }
   ],
   "source": [
    "print (taxon)"
   ]
  },
  {
   "cell_type": "code",
   "execution_count": null,
   "metadata": {
    "collapsed": true
   },
   "outputs": [],
   "source": []
  }
 ],
 "metadata": {
  "anaconda-cloud": {},
  "kernelspec": {
   "display_name": "Python [default]",
   "language": "python",
   "name": "python3"
  },
  "language_info": {
   "codemirror_mode": {
    "name": "ipython",
    "version": 3
   },
   "file_extension": ".py",
   "mimetype": "text/x-python",
   "name": "python",
   "nbconvert_exporter": "python",
   "pygments_lexer": "ipython3",
   "version": "3.5.2"
  }
 },
 "nbformat": 4,
 "nbformat_minor": 2
}
