{
 "cells": [
  {
   "cell_type": "code",
   "execution_count": 1,
   "metadata": {
    "collapsed": false
   },
   "outputs": [],
   "source": [
    "#each row describing growth of a tree over 5 yrs \n",
    "#read in the file and make dictionaries of DBH at each census\n",
    "\n",
    "in_file = open ( \"/home/eeb177-student/Desktop/eeb-177/class-work/classwork-21-Feb/cocoli.txt\")\n",
    "sizes_94 = {}\n",
    "sizes_97 = {}\n",
    "sizes_98 = {}\n",
    "#get rid of the header\n",
    "in_file.readline()\n",
    "\n",
    "for line in in_file:\n",
    "    #if you do readlines which reads all at once its dpendednet that file is small\n",
    "    #reading one at a time is scalable \n",
    "    #split so we can access the different columns in the lines \n",
    "    items = line.split ()\n",
    "    tree_id = items [0]\n",
    "    s94 = float (items [4])\n",
    "    s97 = float (items [5])\n",
    "    s98 = float (items [6])\n",
    "    #populate our dictionaries\n",
    "    sizes_94[tree_id] = s94\n",
    "    sizes_97[tree_id] = s97\n",
    "    sizes_98[tree_id] = s98\n",
    "\n",
    "in_file.close()\n",
    "#get an error bc we are including the header therefore it cant convert it into a float \n"
   ]
  },
  {
   "cell_type": "code",
   "execution_count": 17,
   "metadata": {
    "collapsed": false
   },
   "outputs": [
    {
     "data": {
      "text/plain": [
       "float"
      ]
     },
     "execution_count": 17,
     "metadata": {},
     "output_type": "execute_result"
    }
   ],
   "source": [
    "sizes_94\n",
    "#these numbers are interpreted as strings bc of quotes \n",
    "#verify \n",
    "type ( sizes_94 [ \"000100\"])\n",
    "#use float "
   ]
  },
  {
   "cell_type": "code",
   "execution_count": 1,
   "metadata": {
    "collapsed": false
   },
   "outputs": [
    {
     "name": "stderr",
     "output_type": "stream",
     "text": [
      "/home/eeb177-student/miniconda3/lib/python3.5/site-packages/matplotlib/font_manager.py:280: UserWarning: Matplotlib is building the font cache using fc-list. This may take a moment.\n",
      "  'Matplotlib is building the font cache using fc-list. '\n"
     ]
    },
    {
     "ename": "NameError",
     "evalue": "name 'sizes_94' is not defined",
     "output_type": "error",
     "traceback": [
      "\u001b[0;31m---------------------------------------------------------------------------\u001b[0m",
      "\u001b[0;31mNameError\u001b[0m                                 Traceback (most recent call last)",
      "\u001b[0;32m<ipython-input-1-a012950b21e4>\u001b[0m in \u001b[0;36m<module>\u001b[0;34m()\u001b[0m\n\u001b[1;32m     11\u001b[0m \u001b[0;31m#convert to lists\u001b[0m\u001b[0;34m\u001b[0m\u001b[0;34m\u001b[0m\u001b[0m\n\u001b[1;32m     12\u001b[0m \u001b[0;34m\u001b[0m\u001b[0m\n\u001b[0;32m---> 13\u001b[0;31m \u001b[0msizes_in_1994\u001b[0m \u001b[0;34m=\u001b[0m \u001b[0mlist\u001b[0m \u001b[0;34m(\u001b[0m\u001b[0msizes_94\u001b[0m\u001b[0;34m.\u001b[0m\u001b[0mvalues\u001b[0m\u001b[0;34m(\u001b[0m\u001b[0;34m)\u001b[0m\u001b[0;34m)\u001b[0m\u001b[0;34m\u001b[0m\u001b[0m\n\u001b[0m",
      "\u001b[0;31mNameError\u001b[0m: name 'sizes_94' is not defined"
     ]
    }
   ],
   "source": [
    "# how can we visualize this data set? \n",
    "# histogram great place to start in forest ecology expected distributon of trees size, a lot of trees are germinated but few adults \n",
    "# if you were researching children with autism in these areas \n",
    "#anlaysis is only as powerful as the data u have \n",
    "\n",
    "import matplotlib.pyplot as plt \n",
    "#saying got to lib and pick pyplt function and make it avialbel to me and name it plt \n",
    "\n",
    "#lets make a histogram  of dbhs in 94\n",
    "#matplt only works in lists\n",
    "#convert to lists \n",
    "\n",
    "sizes_in_1994 = list (sizes_94.values())"
   ]
  },
  {
   "cell_type": "code",
   "execution_count": null,
   "metadata": {
    "collapsed": true
   },
   "outputs": [],
   "source": []
  },
  {
   "cell_type": "code",
   "execution_count": null,
   "metadata": {
    "collapsed": false
   },
   "outputs": [],
   "source": [
    "plt.hist(sizes_in_1994, log = True )\n",
    "plt.show() \n",
    "# interpret histogram "
   ]
  },
  {
   "cell_type": "code",
   "execution_count": null,
   "metadata": {
    "collapsed": false
   },
   "outputs": [],
   "source": [
    "#need to install by software carpentry \n",
    "#skewed distib, plot it as a exponnet- linear scale , add a third arg \n",
    "# use for loop and get ids if you want to compare dictionaries \n",
    "\n",
    "#did anything dramatically change? gross macro change that can be seen with just two histos\n",
    "#plot two panels to make comparisons\n",
    "\n",
    "\n",
    "#make two hings axl ax 2 using subl=plits that have 1 row of plots acrorss and two column sin that one row \n",
    "#setitng what happens in 1st and will add what happens in 2nd column, sharex - use same x- axis (0-2000)\n",
    "sizes_in_1994 = list (sizes_94.values())\n",
    "#sizes_in_1994 = list (sizes_94.values())\n",
    "\n",
    "f, (ax1, ax2) = plt.subplots (1,2, sharex = True , sharey =True ) \n",
    "ax1.hist(sizes_in_94, log + True ) \n",
    "ax1.set_title('Hist in 1994') \n",
    "#ax1.hist(sizes_in_94, log + True ) \n",
    "#ax1.set_title('Hist in 1994') \n"
   ]
  },
  {
   "cell_type": "code",
   "execution_count": null,
   "metadata": {
    "collapsed": true
   },
   "outputs": [],
   "source": [
    "#big trees died \n",
    "#can test this with quant analysis \n",
    "\n",
    "#list comprehension : ifs all at once then makes subsets \n",
    "#check first\n",
    "#sizes _in_1994() \n",
    "\n",
    "sizes_in_1994[:] = (value for value in sizes_in_1994 if vlaue != -2) \n",
    "#for each value in sixes 94 if the value is not -2 if its true the return the value , put this vlaue into the list if its returned \n",
    "#tradeoff tween effeciecny and readability of code\n",
    "#test\n",
    "sizes_in_1994\n",
    "#unless you know where data comes from u can make misleading "
   ]
  },
  {
   "cell_type": "code",
   "execution_count": null,
   "metadata": {
    "collapsed": true
   },
   "outputs": [],
   "source": [
    "pl.hit(size 94)\n",
    "plt.show\n",
    "\n",
    "\"\"\"\n",
    "what are the correlations in sizes in diff years \n",
    "you expect it ot be bigger but some are actully shrink \n",
    "so how oftern do you get a shrinkage\n",
    "easy way is to plot 94 and 97\n",
    "if u gget bleow oneo one  t line theres is  a problem \n",
    ":scatterplot \n",
    "\"\"\" \n",
    "\n",
    "plt.plot(sizes_in_1994, sizes_in1998, 'ro')\n",
    "plt.ylabel('sixe in 97')\n",
    "plt.show \n",
    "\n",
    "**matplotlib..org\n",
    "**legends "
   ]
  },
  {
   "cell_type": "code",
   "execution_count": null,
   "metadata": {
    "collapsed": true
   },
   "outputs": [],
   "source": []
  }
 ],
 "metadata": {
  "anaconda-cloud": {},
  "kernelspec": {
   "display_name": "Python [conda root]",
   "language": "python",
   "name": "conda-root-py"
  },
  "language_info": {
   "codemirror_mode": {
    "name": "ipython",
    "version": 3
   },
   "file_extension": ".py",
   "mimetype": "text/x-python",
   "name": "python",
   "nbconvert_exporter": "python",
   "pygments_lexer": "ipython3",
   "version": "3.5.2"
  }
 },
 "nbformat": 4,
 "nbformat_minor": 2
}
