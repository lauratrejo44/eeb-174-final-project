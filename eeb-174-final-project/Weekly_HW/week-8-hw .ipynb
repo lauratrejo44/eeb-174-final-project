{
 "cells": [
  {
   "cell_type": "markdown",
   "metadata": {},
   "source": [
    "**Markdown outline for complete project**\n",
    "\n"
   ]
  },
  {
   "cell_type": "markdown",
   "metadata": {},
   "source": [
    "# ***Introductuion of Neotropical Birds***\n",
    "\n",
    "[picture of quetzal](<img src=\"Quetzal.png\">)\n",
    "\n",
    "## Why I chose this project ? \n",
    "I chose to focus on the evolutionary history of birds in South America and Guatemala the quetzal because I am Guatemalan and this is the national bird of Guatemala! "
   ]
  },
  {
   "cell_type": "code",
   "execution_count": null,
   "metadata": {
    "collapsed": true
   },
   "outputs": [],
   "source": []
  },
  {
   "cell_type": "markdown",
   "metadata": {},
   "source": [
    "***Data*** \n",
    "\n",
    "import functions that show the data that was used. \n",
    "\n",
    "```\n",
    "#function 1 \n",
    "import csv\n",
    "\n",
    "\n",
    "#create and define function that takes an integer from the min_ma as the argument and returns either extanct or extinct\n",
    "\n",
    "def still_exists(string):\n",
    "    for ma in (item [11]):\n",
    "         if ma == '0':\n",
    "            exists.append (0)\n",
    "            return ('0')\n",
    "         else:\n",
    "            exists.append(1)\n",
    "            return('1')\n",
    "         \n",
    "       \n",
    "\n",
    "#read in the file \n",
    "in_file = open ( \"/home/eeb177-student/Desktop/eeb-177/eeb-174-final-project/ornithurae_pbdb_data.csv\")\n",
    "#make a dictionary of taxon of either extinct or extanct \n",
    "#mames a list of 0 or 1 \n",
    "taxon = {}\n",
    "exists = []\n",
    "\n",
    "#get rid of the header\n",
    "in_file.readline()\n",
    "\n",
    "for line in in_file:\n",
    "    \n",
    "    #split so we can access the different columns in the lines \n",
    "    #items = line.split ('\\t')\n",
    "    item = line.split('\",\"')\n",
    "    \n",
    "    taxons = item [5]\n",
    "    ma = item [11]\n",
    "\n",
    "    #populate our dictionaries\n",
    "    taxon[taxons] = still_exists (ma)\n",
    "    \n",
    "in_file.close()\n",
    "```\n",
    "***Visualization of data***\n",
    "\n",
    "insert graphs made in R GG plot \n",
    "\n"
   ]
  },
  {
   "cell_type": "markdown",
   "metadata": {},
   "source": []
  }
 ],
 "metadata": {
  "anaconda-cloud": {},
  "kernelspec": {
   "display_name": "Python [conda root]",
   "language": "python",
   "name": "conda-root-py"
  },
  "language_info": {
   "codemirror_mode": {
    "name": "ipython",
    "version": 3
   },
   "file_extension": ".py",
   "mimetype": "text/x-python",
   "name": "python",
   "nbconvert_exporter": "python",
   "pygments_lexer": "ipython3",
   "version": "3.5.2"
  }
 },
 "nbformat": 4,
 "nbformat_minor": 2
}
