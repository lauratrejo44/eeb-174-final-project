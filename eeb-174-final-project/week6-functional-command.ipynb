{
 "cells": [
  {
   "cell_type": "markdown",
   "metadata": {},
   "source": [
    "**Week 6: Functional command**\n",
    "```\n",
    "Function to format data appropriately. \n",
    "This function will list the taxon as extinct or extanct\n",
    "```\n"
   ]
  },
  {
   "cell_type": "code",
   "execution_count": 78,
   "metadata": {
    "collapsed": false
   },
   "outputs": [],
   "source": [
    "import csv\n",
    "\n",
    "#create and define function that takes tan integer the min_ma as the argument and returns either extanct or extinct\n",
    "def still_exists(number):\n",
    "    if number == 0:\n",
    "        return \"extanct\"\n",
    "    else:\n",
    "        return \"extinct\" \n",
    "    \n",
    "\n",
    "#read in the file \n",
    "in_file = open ( \"/home/eeb177-student/Desktop/eeb-177/eeb-174-final-project/ornithurae_pbdb_data.csv\")\n",
    "#make a dictionaries of taxon of either extinct or extanct \n",
    "taxon = {}\n",
    "\n",
    "#get rid of the header\n",
    "in_file.readline()\n",
    "\n",
    "for line in in_file:\n",
    "    \n",
    "    #split so we can access the different columns in the lines \n",
    "    items = line.split ('\\t')\n",
    "    item = line.split(',')\n",
    "    #print (item)\n",
    "    taxons = item [5]\n",
    "    ma = item [11]\n",
    "\n",
    "    #specify if taxon is extinct or extanct \n",
    "    \n",
    "    exists = still_exists ( ma)\n",
    "    \n",
    "    #populate our dictionaries\n",
    "    taxon[taxons] = exists\n",
    "\n",
    "in_file.close()\n",
    "\n"
   ]
  },
  {
   "cell_type": "code",
   "execution_count": 77,
   "metadata": {
    "collapsed": false
   },
   "outputs": [
    {
     "name": "stdout",
     "output_type": "stream",
     "text": [
      "{'\"Sula brandi\"': 'extinct', '\"Foetopterus ambiguus\"': 'extinct', '\"Accipitridae\"': 'extinct', '\"Argentavis magnificens\"': 'extinct', '\"Devincenzia\"': 'extinct', '\"Yacoraitichnus avis\"': 'extinct', '\"Itaboravis elaphrocnemoides\"': 'extinct', '\"Rhea fossilis\"': 'extinct', '\"Ornithurae\"': 'extinct', '\"Crypturellus\"': 'extinct', '\"Dryornis pampeanus\"': 'extinct', '\"Falconidae\"': 'extinct', '\"Milvago brodkorbi\"': 'extinct', '\"Jabiru mycteria\"': 'extinct', '\"Pelagornis chilensis\"': 'extinct', '\"Tyto alba\"': 'extinct', '\"Mesembriornis milneedwardsi\"': 'extinct', '\"Anseriformes\"': 'extinct', '\"Chunga\"': 'extinct', '\"Fulmarus\"': 'extinct', '\"Limenavis patagonica\"': 'extinct', '\"Syrigma sanctimartini\"': 'extinct', '\"Pelagornithidae\"': 'extinct', '\"Procellariidae\"': 'extinct', '\"Psilopterus lemoinei\"': 'extinct', '\"Anas\"': 'extinct', '\"Phalacrocorax brasilianus\"': 'extinct', '\"Anas sanctaehelenae\"': 'extinct', '\"Podiceps\"': 'extinct', '\"Devincenzia gallinali\"': 'extinct', '\"Speotyto cunicularia\"': 'extinct', '\"Phorusrhacidae\"': 'extinct', '\"Sula magna\"': 'extinct', '\"Sula\"': 'extinct', '\"Buteo\"': 'extinct', '\"Andalgalornis\"': 'extinct', '\"Dendrocygna\"': 'extinct', '\"Anatidae\"': 'extinct', '\"Sulidae\"': 'extinct', '\"Zonotrichia\"': 'extinct', '\"Patagornis marshi\"': 'extinct', '\"Caracara plancus\"': 'extinct', '\"Mycteria\"': 'extinct', '\"Ramphastosula aguierrei\"': 'extinct', '\"Columbina\"': 'extinct', '\"Tinamidae\"': 'extinct', '\"Psilopterus bachmanni\"': 'extinct', '\"Megapaloelodus\"': 'extinct', '\"Phoenicopteridae\"': 'extinct', '\"Leptoptilos patagonicus\"': 'extinct', '\"Coccyzus\"': 'extinct', '\"Nycticorax\"': 'extinct', '\"Cladornis pachypus\"': 'extinct', '\"Miraquila terrestris\"': 'extinct', '\"Phalacrocorax\"': 'extinct', '\"Psilopterus colzecus\"': 'extinct', '\"Paleopsilopterus itaboraiensis\"': 'extinct', '\"Andrewsornis\"': 'extinct', '\"Asio flammeus\"': 'extinct', '\"Taubatornis campbelli\"': 'extinct', '\"Nothura\"': 'extinct', '\"Rhea pampeana\"': 'extinct', '\"Anisolornis\"': 'extinct', '\"Bubo virginianus\"': 'extinct', '\"Eoneornis australis\"': 'extinct', '\"Cariaminae\"': 'extinct', '\"Kelenken guillermoi\"': 'extinct', '\"Dendrocygninae\"': 'extinct', '\"Rhea subpampeana\"': 'extinct', '\"Diomedea\"': 'extinct', '\"Liptornis hesternus\"': 'extinct', '\"Eutelornis patagonicus\"': 'extinct', '\"Lagopterus minutus\"': 'extinct', '\"Chloephaga\"': 'extinct', '\"Telmabates antiquus\"': 'extinct', '\"Morus peruvianus\"': 'extinct', '\"Pelagornis\"': 'extinct', '\"Sula figueroae\"': 'extinct', '\"Porphyrula\"': 'extinct', '\"Falco sparverius\"': 'extinct', '\"Geranoaetus\"': 'extinct', '\"Falco\"': 'extinct', '\"Egretta\"': 'extinct', '\"Motacillinae\"': 'extinct', '\"Passeriformes\"': 'extinct', '\"Palaeociconia australis\"': 'extinct', '\"Cruschedula revola\"': 'extinct', '\"Phorusrhacos longissimus\"': 'extinct', '\"Amplibuteo hibbardi\"': 'extinct', '\"Thalassarche\"': 'extinct', '\"Diomedeidae\"': 'extinct', '\"Protorhea azarae\"': 'extinct', '\"Ardea\"': 'extinct', '\"Rheidae\"': 'extinct', '\"Anas talarae\"': 'extinct', '\"Neornithes\"': 'extinct', '\"Milvago\"': 'extinct', '\"Rhea americana\"': 'extinct', '\"Tinamisornis intermedius\"': 'extinct', '\"Podilymbus podiceps\"': 'extinct', '\"Anhinga grandis\"': 'extinct', '\"Dendrocygna autumnalis\"': 'extinct', '\"Theristicus wetmorei\"': 'extinct', '\"Pelecaniformes\"': 'extinct', '\"Eudocimus peruvianus\"': 'extinct', '\"Physornis\"': 'extinct', '\"Anhinga\"': 'extinct', '\"Sula sulita\"': 'extinct', '\"Caprimulgus piurensis\"': 'extinct', '\"Anas amotape\"': 'extinct', '\"Phalacrocorax bougainvillii\"': 'extinct', '\"Cariama santacrucensis\"': 'extinct', '\"Hoazinoides magdalenae\"': 'extinct', '\"Columbidae\"': 'extinct', '\"Porzana\"': 'extinct', '\"Colaptes\"': 'extinct', '\"Neogaeornis wetzeli\"': 'extinct', '\"Ramphastosula ramirezi\"': 'extinct', '\"Nannonetta invisitata\"': 'extinct', '\"Eudocimus\"': 'extinct', '\"Puffinus\"': 'extinct', '\"Psilopteridae\"': 'extinct', '\"Presbyornithidae\"': 'extinct', '\"Opisthodactylus patagonicus\"': 'extinct', '\"Eudromia\"': 'extinct', '\"Protibis\"': 'extinct', '\"Rhea\"': 'extinct', '\"Ajaia\"': 'extinct', '\"Circus\"': 'extinct', '\"Ardeidae\"': 'extinct', '\"Telmabates howardae\"': 'extinct', '\"Zenaida\"': 'extinct', '\"Psittacidae\"': 'extinct', '\"Rallidae\"': 'extinct', '\"Phorusrhacinae\"': 'extinct', '\"Diogenornis fragilis\"': 'extinct', '\"Badiostes patagonicus\"': 'extinct', '\"Thegornis debilis\"': 'extinct', '\"Eutreptodactylus itaboraiensis\"': 'extinct', '\"Brontornis burmeisteri\"': 'extinct', '\"Tinamisornis parvulus\"': 'extinct'}\n"
     ]
    }
   ],
   "source": [
    "print (taxon)"
   ]
  },
  {
   "cell_type": "code",
   "execution_count": null,
   "metadata": {
    "collapsed": true
   },
   "outputs": [],
   "source": []
  }
 ],
 "metadata": {
  "anaconda-cloud": {},
  "kernelspec": {
   "display_name": "Python [default]",
   "language": "python",
   "name": "python3"
  },
  "language_info": {
   "codemirror_mode": {
    "name": "ipython",
    "version": 3
   },
   "file_extension": ".py",
   "mimetype": "text/x-python",
   "name": "python",
   "nbconvert_exporter": "python",
   "pygments_lexer": "ipython3",
   "version": "3.5.2"
  }
 },
 "nbformat": 4,
 "nbformat_minor": 2
}
