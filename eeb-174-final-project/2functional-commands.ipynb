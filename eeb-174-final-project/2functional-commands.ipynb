{
 "cells": [
  {
   "cell_type": "code",
   "execution_count": 11,
   "metadata": {
    "collapsed": false
   },
   "outputs": [
    {
     "ename": "TypeError",
     "evalue": "'dict' object is not callable",
     "output_type": "error",
     "traceback": [
      "\u001b[0;31m---------------------------------------------------------------------------\u001b[0m",
      "\u001b[0;31mTypeError\u001b[0m                                 Traceback (most recent call last)",
      "\u001b[0;32m<ipython-input-11-f2c37298a1f4>\u001b[0m in \u001b[0;36m<module>\u001b[0;34m()\u001b[0m\n\u001b[1;32m     26\u001b[0m \u001b[0;34m\u001b[0m\u001b[0m\n\u001b[1;32m     27\u001b[0m \u001b[0;31m#convert to list\u001b[0m\u001b[0;34m\u001b[0m\u001b[0;34m\u001b[0m\u001b[0m\n\u001b[0;32m---> 28\u001b[0;31m \u001b[0mmax_min_ma\u001b[0m  \u001b[0;34m=\u001b[0m \u001b[0mlist\u001b[0m \u001b[0;34m(\u001b[0m\u001b[0mma\u001b[0m\u001b[0;34m(\u001b[0m\u001b[0;34m)\u001b[0m\u001b[0;34m)\u001b[0m\u001b[0;34m\u001b[0m\u001b[0m\n\u001b[0m\u001b[1;32m     29\u001b[0m \u001b[0;34m\u001b[0m\u001b[0m\n\u001b[1;32m     30\u001b[0m \u001b[0;31m#plot\u001b[0m\u001b[0;34m\u001b[0m\u001b[0;34m\u001b[0m\u001b[0m\n",
      "\u001b[0;31mTypeError\u001b[0m: 'dict' object is not callable"
     ]
    }
   ],
   "source": [
    "#function 1: creates a histogram of the max_ma and min_ma for each taxon in order to visualize their age \n",
    "import csv\n",
    "import matplotlib.pyplot as plt \n",
    "\n",
    "#read in the file \n",
    "in_file = open ( \"/home/eeb177-student/Desktop/eeb-177/eeb-174-final-project/ornithurae_pbdb_data.csv\")\n",
    "#make a dictionaries \n",
    "ma = {}\n",
    "def make_a_graph():\n",
    "    \n",
    "\n",
    "#get rid of the header\n",
    "    in_file.readline()\n",
    "\n",
    "    for line in in_file:\n",
    "    \n",
    "    #split so we can access the different columns in the lines \n",
    "        items = line.split ('\\t')\n",
    "        item = line.split(',')\n",
    "    #print (item)\n",
    "        taxons = item [5]\n",
    "        ma_age = item [11]\n",
    "    \n",
    "    #populate our dictionaries\n",
    "        ma[taxons] = ma_age\n",
    "        \n",
    "#convert to list \n",
    "max_min_ma  = list (ma())\n",
    "\n",
    "#plot \n",
    "\n",
    "plt.hist(max_min_ma, log = True )\n",
    "plt.show() \n",
    "\n",
    "return ()\n",
    "in_file.close() \n"
   ]
  },
  {
   "cell_type": "code",
   "execution_count": 12,
   "metadata": {
    "collapsed": false
   },
   "outputs": [
    {
     "name": "stdout",
     "output_type": "stream",
     "text": [
      "\"early_interval\"\n"
     ]
    },
    {
     "ename": "TypeError",
     "evalue": "'dict' object is not callable",
     "output_type": "error",
     "traceback": [
      "\u001b[0;31m---------------------------------------------------------------------------\u001b[0m",
      "\u001b[0;31mTypeError\u001b[0m                                 Traceback (most recent call last)",
      "\u001b[0;32m<ipython-input-12-9d198b93eeb7>\u001b[0m in \u001b[0;36m<module>\u001b[0;34m()\u001b[0m\n\u001b[1;32m     23\u001b[0m     \u001b[0mintervals\u001b[0m\u001b[0;34m[\u001b[0m\u001b[0mtaxons\u001b[0m\u001b[0;34m]\u001b[0m \u001b[0;34m=\u001b[0m \u001b[0mtime\u001b[0m\u001b[0;34m\u001b[0m\u001b[0m\n\u001b[1;32m     24\u001b[0m     \u001b[0;31m# create a list\u001b[0m\u001b[0;34m\u001b[0m\u001b[0;34m\u001b[0m\u001b[0m\n\u001b[0;32m---> 25\u001b[0;31m     \u001b[0minterval\u001b[0m \u001b[0;34m=\u001b[0m \u001b[0mlist\u001b[0m \u001b[0;34m(\u001b[0m\u001b[0mintervals\u001b[0m\u001b[0;34m(\u001b[0m\u001b[0;34m)\u001b[0m\u001b[0;34m)\u001b[0m\u001b[0;34m\u001b[0m\u001b[0m\n\u001b[0m\u001b[1;32m     26\u001b[0m \u001b[0;34m\u001b[0m\u001b[0m\n\u001b[1;32m     27\u001b[0m     \u001b[0;31m#plot\u001b[0m\u001b[0;34m\u001b[0m\u001b[0;34m\u001b[0m\u001b[0m\n",
      "\u001b[0;31mTypeError\u001b[0m: 'dict' object is not callable"
     ]
    }
   ],
   "source": [
    "# function two will visualize interval periods (how many taxa lived in these time preiods)  \n",
    "import csv\n",
    "import matplotlib.pyplot as plt \n",
    "\n",
    "#read in the file \n",
    "in_file = open ( \"/home/eeb177-student/Desktop/eeb-177/eeb-174-final-project/ornithurae_pbdb_data.csv\")\n",
    "#make a dictionaries \n",
    "intervals = {}\n",
    "\n",
    "#def occurrences ():\n",
    "for line in in_file:\n",
    "    \n",
    "    #split so we can access the different columns in the lines \n",
    "    items = line.split ('\\t')\n",
    "    item = line.split(',')\n",
    "        \n",
    "    interval = item [5]\n",
    "    time = item [8]\n",
    "    print (time)\n",
    "   \n",
    "    \n",
    "        #populate our dictionaries\n",
    "    intervals[taxons] = time \n",
    "    # create a list \n",
    "    interval = list (intervals())\n",
    "    \n",
    "    #plot \n",
    "\n",
    "plt.hist(max_min_ma, log = True )\n",
    "plt.show() \n",
    "\n",
    "return () \n",
    "        \n",
    "in_file.close()        "
   ]
  },
  {
   "cell_type": "code",
   "execution_count": null,
   "metadata": {
    "collapsed": true
   },
   "outputs": [],
   "source": []
  }
 ],
 "metadata": {
  "anaconda-cloud": {},
  "kernelspec": {
   "display_name": "Python [conda root]",
   "language": "python",
   "name": "conda-root-py"
  },
  "language_info": {
   "codemirror_mode": {
    "name": "ipython",
    "version": 3
   },
   "file_extension": ".py",
   "mimetype": "text/x-python",
   "name": "python",
   "nbconvert_exporter": "python",
   "pygments_lexer": "ipython3",
   "version": "3.5.2"
  }
 },
 "nbformat": 4,
 "nbformat_minor": 2
}
