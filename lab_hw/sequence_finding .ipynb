{
 "cells": [
  {
   "cell_type": "code",
   "execution_count": 5,
   "metadata": {
    "collapsed": false
   },
   "outputs": [
    {
     "name": "stdout",
     "output_type": "stream",
     "text": [
      "/home/eeb177-student/Desktop/eeb-177/CSB/unix/data\n"
     ]
    }
   ],
   "source": [
    "cd ~/Desktop/eeb-177/CSB/unix/data\n"
   ]
  },
  {
   "cell_type": "code",
   "execution_count": 42,
   "metadata": {
    "collapsed": true
   },
   "outputs": [],
   "source": [
    "less Marra2014_data.fasta"
   ]
  },
  {
   "cell_type": "code",
   "execution_count": 7,
   "metadata": {
    "collapsed": false
   },
   "outputs": [
    {
     "data": {
      "text/plain": [
       "'/home/eeb177-student/Desktop/eeb-177/CSB/unix/data'"
      ]
     },
     "execution_count": 7,
     "metadata": {},
     "output_type": "execute_result"
    }
   ],
   "source": [
    "pwd\n"
   ]
  },
  {
   "cell_type": "code",
   "execution_count": 8,
   "metadata": {
    "collapsed": false
   },
   "outputs": [],
   "source": [
    "my_fasta = '/home/eeb177-student/Desktop/eeb-177/CSB/unix/data/Marra2014_data.fasta'"
   ]
  },
  {
   "cell_type": "code",
   "execution_count": 9,
   "metadata": {
    "collapsed": false
   },
   "outputs": [],
   "source": [
    "my_fasta_file = open (my_fasta)"
   ]
  },
  {
   "cell_type": "code",
   "execution_count": 10,
   "metadata": {
    "collapsed": true
   },
   "outputs": [],
   "source": [
    "fasta_file = my_fasta_file.read() "
   ]
  },
  {
   "cell_type": "code",
   "execution_count": 11,
   "metadata": {
    "collapsed": true
   },
   "outputs": [],
   "source": [
    "#create a csv file \n",
    "Marras_file = ( \"Marras_output.csv\", \"w\")"
   ]
  },
  {
   "cell_type": "code",
   "execution_count": 12,
   "metadata": {
    "collapsed": true
   },
   "outputs": [],
   "source": [
    "#create 2 empty list\n",
    "contig_names = []\n",
    "aatg_count = []"
   ]
  },
  {
   "cell_type": "code",
   "execution_count": 45,
   "metadata": {
    "collapsed": false
   },
   "outputs": [],
   "source": [
    "import csv\n",
    "import re\n",
    "\n",
    "for line in fasta_file:\n",
    "    #search for header\n",
    "    if (re.search(\">\", line)):\n",
    "        \n",
    "        #search for aatg in line\n",
    "        result = re.findall(\"AATG\", line)\n",
    "        #count the number of times aatg appears\n",
    "        length  = len (result)\n",
    "    \n",
    "        #search for contig name and extract it\n",
    "        m = re.search (\"(^>)(contig[.+]\\s$)\", line)\n",
    "        if m:\n",
    "            m1 = m.group(1)\n",
    "            contig_name = m.group(2)\n",
    "            \n",
    "            #create a string \n",
    "            output = contig_name + \", \" + length + \"\\n\"\n",
    "        \n",
    "    \n",
    "            #write into csv \n",
    "            Marras_file.write(str (output))\n",
    "            Marras_file.close\n",
    "\n",
    "    "
   ]
  },
  {
   "cell_type": "code",
   "execution_count": null,
   "metadata": {
    "collapsed": true
   },
   "outputs": [],
   "source": []
  }
 ],
 "metadata": {
  "anaconda-cloud": {},
  "kernelspec": {
   "display_name": "Python [conda root]",
   "language": "python",
   "name": "conda-root-py"
  },
  "language_info": {
   "codemirror_mode": {
    "name": "ipython",
    "version": 3
   },
   "file_extension": ".py",
   "mimetype": "text/x-python",
   "name": "python",
   "nbconvert_exporter": "python",
   "pygments_lexer": "ipython3",
   "version": "3.5.2"
  }
 },
 "nbformat": 4,
 "nbformat_minor": 2
}
